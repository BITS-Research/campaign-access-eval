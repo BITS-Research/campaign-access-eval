{
 "cells": [
  {
   "cell_type": "markdown",
   "id": "2b8bba7b",
   "metadata": {},
   "source": [
    "# Accessibility Report\n",
    "## The result is a csv with the candidate, position, website, vendor along with payment and the fields from their campaign website's axe report on accessibility."
   ]
  },
  {
   "cell_type": "code",
   "execution_count": 1,
   "id": "94ebdf2c",
   "metadata": {},
   "outputs": [],
   "source": [
    "import json\n",
    "import pandas as pd\n",
    "import csv\n",
    "from selenium import webdriver\n",
    "from axe_selenium_python import Axe\n",
    "import requests\n",
    "from requests.exceptions import ConnectionError\n",
    "import os"
   ]
  },
  {
   "cell_type": "code",
   "execution_count": 2,
   "id": "5884dd1c",
   "metadata": {},
   "outputs": [],
   "source": [
    "candidate_data = pd.read_csv(r'Seattle-2021ElectionWebsiteData - Sheet1.csv')"
   ]
  },
  {
   "cell_type": "markdown",
   "id": "203ca0ce",
   "metadata": {},
   "source": [
    "### The following are all the available features in this dataset:"
   ]
  },
  {
   "cell_type": "code",
   "execution_count": 3,
   "id": "62d478d5",
   "metadata": {},
   "outputs": [
    {
     "data": {
      "text/plain": [
       "['Position', 'Candidate', 'Website ', 'Vendor', 'Payment ', 'Source']"
      ]
     },
     "execution_count": 3,
     "metadata": {},
     "output_type": "execute_result"
    }
   ],
   "source": [
    "list(candidate_data.columns)"
   ]
  },
  {
   "cell_type": "markdown",
   "id": "21e53233",
   "metadata": {},
   "source": [
    "### The following features will be included in the final dataset:\n",
    "- Postion\n",
    "- Candidate\n",
    "- Website\n",
    "- Vendor\n",
    "- Payment"
   ]
  },
  {
   "cell_type": "markdown",
   "id": "bb787d06",
   "metadata": {},
   "source": [
    "### The following features will be included from the axe report:\n",
    "- Violation #\n",
    "- Description\n",
    "- Help\n",
    "- HelpUrl\n",
    "- Id\n",
    "- Impact\n",
    "- Tags\n",
    "- Website"
   ]
  },
  {
   "cell_type": "markdown",
   "id": "0b18081a",
   "metadata": {},
   "source": [
    "\n",
    "This function accepts a url and creates an axe report in json format. Then parses the json file to create a dictionary with all the elements nested."
   ]
  },
  {
   "cell_type": "code",
   "execution_count": 4,
   "id": "4bac21f0",
   "metadata": {},
   "outputs": [],
   "source": [
    "def test_site(url: str) -> dict:\n",
    "    # Add the path the geckodriver you downloaded earlier\n",
    "    # The following is an example\n",
    "    driver = webdriver.Firefox()\n",
    "    driver.get(url)\n",
    "    axe = Axe(driver)\n",
    "    # Inject axe-core javascript into page.\n",
    "    axe.inject()\n",
    "    # Run axe accessibility checks.\n",
    "    results = axe.run()\n",
    "    # Write results to file\n",
    "    axe.write_results(results, 'access.json')\n",
    "    driver.close()\n",
    "    # Assert no violations are found\n",
    "    # assert len(results[\"violations\"]) == 0, axe.report(results[\"violations\"])\n",
    "    with open('access.json', 'r') as content:\n",
    "        data = json.load(content)\n",
    "    \n",
    "    return data"
   ]
  },
  {
   "cell_type": "code",
   "execution_count": 5,
   "id": "dcb137ce",
   "metadata": {},
   "outputs": [],
   "source": [
    "# Testing the function:\n",
    "\n",
    "test_data = test_site(\"http://natalieisawesome.com/\")"
   ]
  },
  {
   "cell_type": "code",
   "execution_count": 6,
   "id": "68479ead",
   "metadata": {},
   "outputs": [],
   "source": [
    "result = pd.DataFrame(columns = [\"Position\", \"Candidate\",\n",
    "                                 \"Violation #\", \"Description\", \"Help\", \"HelpUrl\", \"Id\", \"Impact\", \"Tags\"])"
   ]
  },
  {
   "cell_type": "code",
   "execution_count": 7,
   "id": "35e939fd",
   "metadata": {},
   "outputs": [
    {
     "name": "stdout",
     "output_type": "stream",
     "text": [
      "Checking violations in Bliss's campaign website\n",
      "Checking violations in Donaldson's campaign website\n",
      "Checking violations in Echohawk's campaign website\n",
      "Checking violations in Farrell's campaign website\n",
      "Checking violations in Gonzalez's campaign website\n",
      "Checking violations in Harrell's campaign website\n",
      "Checking violations in Houston's campaign website\n",
      "Lippmann's website url not present\n",
      "Checking violations in Randall's campaign website\n",
      "Checking violations in Rivers's campaign website\n",
      "Checking violations in Sixkiller's campaign website\n",
      "Checking violations in Tucker's campaign website\n",
      "Checking violations in Holmes's campaign website\n",
      "Checking violations in Thomas-Kennedy's campaign website\n",
      "Checking violations in Glumaz's campaign website\n",
      "Checking violations in Martin's campaign website\n",
      "Checking violations in Mosqueda's campaign website\n",
      "Checking violations in Tsimerman's campaign website\n",
      "Checking violations in Echner's campaign website\n",
      "Checking violations in Gunther's campaign website\n",
      "Checking violations in Nelson's campaign website\n",
      "Checking violations in Oliver's campaign website\n",
      "Checking violations in Thomas 's campaign website\n"
     ]
    }
   ],
   "source": [
    "for index, row in candidate_data.iterrows():\n",
    "    from requests.exceptions import MissingSchema\n",
    "    website = row['Website ']\n",
    "    if type(row['Website ']) == str:  \n",
    "        if \".org\" in website or \".com\" in website:\n",
    "            if \"http\" not in website:\n",
    "                website = ''.join(('https://', website))\n",
    "                \n",
    "    # checking if there is a value for 'website'\n",
    "    if not pd.isna(website):\n",
    "        try:\n",
    "            # checking if this website is valid\n",
    "            request = requests.get(website)\n",
    "        except ConnectionError:\n",
    "            print(row['Candidate']+ '\\'s campaign website does not exist')\n",
    "            continue\n",
    "        except MissingSchema:\n",
    "            print(row['Candidate']+ '\\'s website url not present')\n",
    "            continue\n",
    "        \n",
    "        # calling the function to create json report file\n",
    "        axe_report = test_site(website)\n",
    "        axe_violations = axe_report['violations']\n",
    "        count = len(axe_violations)\n",
    "        print(\"Checking violations in \" + row['Candidate']+ '\\'s campaign website')\n",
    "        \n",
    "        # appending the data frame\n",
    "        # each violation is added as a new observation and tracked with vilation #\n",
    "        for i in range(count):\n",
    "            violation_num = i + 1\n",
    "            violation_desc = axe_violations[i]['description']\n",
    "            violation_help = axe_violations[i]['help']\n",
    "            violation_helpurl = axe_violations[i]['helpUrl']\n",
    "            violation_id = axe_violations[i]['id']\n",
    "            violation_impact = axe_violations[i]['impact']\n",
    "            violation_tags = axe_violations[i]['tags']\n",
    "            violation_nodes = axe_violations[i]['nodes']\n",
    "            node_count = len(violation_nodes)\n",
    "            violation_html_list = {}\n",
    "            for j in range(node_count):\n",
    "                failureSummary = violation_nodes[j]['failureSummary']\n",
    "                html = violation_nodes[j]['html']\n",
    "                violation_html_list[failureSummary] = html\n",
    "            result = result.append({'Position': row['Position'], \n",
    "                                    'Candidate': row['Candidate'], \n",
    "                                    'Website ': row['Website '], 'Violation #': violation_num,'failureSummary:html': violation_html_list,\n",
    "                                    'Description': violation_desc, 'Help': violation_help, 'HelpUrl': violation_helpurl,\n",
    "                                    'Id': violation_id, 'Impact': violation_impact, 'Tags': violation_tags}, ignore_index=True)"
   ]
  },
  {
   "cell_type": "code",
   "execution_count": 8,
   "id": "71596da9",
   "metadata": {},
   "outputs": [
    {
     "data": {
      "text/html": [
       "<div>\n",
       "<style scoped>\n",
       "    .dataframe tbody tr th:only-of-type {\n",
       "        vertical-align: middle;\n",
       "    }\n",
       "\n",
       "    .dataframe tbody tr th {\n",
       "        vertical-align: top;\n",
       "    }\n",
       "\n",
       "    .dataframe thead th {\n",
       "        text-align: right;\n",
       "    }\n",
       "</style>\n",
       "<table border=\"1\" class=\"dataframe\">\n",
       "  <thead>\n",
       "    <tr style=\"text-align: right;\">\n",
       "      <th></th>\n",
       "      <th>Position</th>\n",
       "      <th>Candidate</th>\n",
       "      <th>Violation #</th>\n",
       "      <th>Description</th>\n",
       "      <th>Help</th>\n",
       "      <th>HelpUrl</th>\n",
       "      <th>Id</th>\n",
       "      <th>Impact</th>\n",
       "      <th>Tags</th>\n",
       "      <th>Website</th>\n",
       "      <th>failureSummary:html</th>\n",
       "    </tr>\n",
       "  </thead>\n",
       "  <tbody>\n",
       "    <tr>\n",
       "      <th>0</th>\n",
       "      <td>MAYOR</td>\n",
       "      <td>Bliss</td>\n",
       "      <td>1</td>\n",
       "      <td>Ensures role attribute has an appropriate valu...</td>\n",
       "      <td>ARIA role must be appropriate for the element</td>\n",
       "      <td>https://dequeuniversity.com/rules/axe/3.1/aria...</td>\n",
       "      <td>aria-allowed-role</td>\n",
       "      <td>minor</td>\n",
       "      <td>[cat.aria, best-practice]</td>\n",
       "      <td>www.doctorblissformayor.com</td>\n",
       "      <td>{'Fix any of the following:\n",
       "  role button  is ...</td>\n",
       "    </tr>\n",
       "    <tr>\n",
       "      <th>1</th>\n",
       "      <td>MAYOR</td>\n",
       "      <td>Bliss</td>\n",
       "      <td>2</td>\n",
       "      <td>Ensures the contrast between foreground and ba...</td>\n",
       "      <td>Elements must have sufficient color contrast</td>\n",
       "      <td>https://dequeuniversity.com/rules/axe/3.1/colo...</td>\n",
       "      <td>color-contrast</td>\n",
       "      <td>serious</td>\n",
       "      <td>[cat.color, wcag2aa, wcag143]</td>\n",
       "      <td>www.doctorblissformayor.com</td>\n",
       "      <td>{'Fix any of the following:\n",
       "  Element has insu...</td>\n",
       "    </tr>\n",
       "    <tr>\n",
       "      <th>2</th>\n",
       "      <td>MAYOR</td>\n",
       "      <td>Bliss</td>\n",
       "      <td>3</td>\n",
       "      <td>Ensures every id attribute value is unique</td>\n",
       "      <td>id attribute value must be unique</td>\n",
       "      <td>https://dequeuniversity.com/rules/axe/3.1/dupl...</td>\n",
       "      <td>duplicate-id</td>\n",
       "      <td>minor</td>\n",
       "      <td>[cat.parsing, wcag2a, wcag411]</td>\n",
       "      <td>www.doctorblissformayor.com</td>\n",
       "      <td>{'Fix any of the following:\n",
       "  Document has mul...</td>\n",
       "    </tr>\n",
       "    <tr>\n",
       "      <th>3</th>\n",
       "      <td>MAYOR</td>\n",
       "      <td>Bliss</td>\n",
       "      <td>4</td>\n",
       "      <td>Ensures &lt;iframe&gt; and &lt;frame&gt; elements contain ...</td>\n",
       "      <td>Frames must have title attribute</td>\n",
       "      <td>https://dequeuniversity.com/rules/axe/3.1/fram...</td>\n",
       "      <td>frame-title</td>\n",
       "      <td>serious</td>\n",
       "      <td>[cat.text-alternatives, wcag2a, wcag241, wcag4...</td>\n",
       "      <td>www.doctorblissformayor.com</td>\n",
       "      <td>{'Fix any of the following:\n",
       "  aria-label attri...</td>\n",
       "    </tr>\n",
       "    <tr>\n",
       "      <th>4</th>\n",
       "      <td>MAYOR</td>\n",
       "      <td>Bliss</td>\n",
       "      <td>5</td>\n",
       "      <td>Ensures every form element has a label</td>\n",
       "      <td>Form elements must have labels</td>\n",
       "      <td>https://dequeuniversity.com/rules/axe/3.1/labe...</td>\n",
       "      <td>label</td>\n",
       "      <td>critical</td>\n",
       "      <td>[cat.forms, wcag2a, wcag332, wcag131, section5...</td>\n",
       "      <td>www.doctorblissformayor.com</td>\n",
       "      <td>{'Fix all of the following:\n",
       "  Form element has...</td>\n",
       "    </tr>\n",
       "  </tbody>\n",
       "</table>\n",
       "</div>"
      ],
      "text/plain": [
       "  Position Candidate Violation #  \\\n",
       "0    MAYOR     Bliss           1   \n",
       "1    MAYOR     Bliss           2   \n",
       "2    MAYOR     Bliss           3   \n",
       "3    MAYOR     Bliss           4   \n",
       "4    MAYOR     Bliss           5   \n",
       "\n",
       "                                         Description  \\\n",
       "0  Ensures role attribute has an appropriate valu...   \n",
       "1  Ensures the contrast between foreground and ba...   \n",
       "2         Ensures every id attribute value is unique   \n",
       "3  Ensures <iframe> and <frame> elements contain ...   \n",
       "4             Ensures every form element has a label   \n",
       "\n",
       "                                            Help  \\\n",
       "0  ARIA role must be appropriate for the element   \n",
       "1   Elements must have sufficient color contrast   \n",
       "2              id attribute value must be unique   \n",
       "3               Frames must have title attribute   \n",
       "4                 Form elements must have labels   \n",
       "\n",
       "                                             HelpUrl                 Id  \\\n",
       "0  https://dequeuniversity.com/rules/axe/3.1/aria...  aria-allowed-role   \n",
       "1  https://dequeuniversity.com/rules/axe/3.1/colo...     color-contrast   \n",
       "2  https://dequeuniversity.com/rules/axe/3.1/dupl...       duplicate-id   \n",
       "3  https://dequeuniversity.com/rules/axe/3.1/fram...        frame-title   \n",
       "4  https://dequeuniversity.com/rules/axe/3.1/labe...              label   \n",
       "\n",
       "     Impact                                               Tags  \\\n",
       "0     minor                          [cat.aria, best-practice]   \n",
       "1   serious                      [cat.color, wcag2aa, wcag143]   \n",
       "2     minor                     [cat.parsing, wcag2a, wcag411]   \n",
       "3   serious  [cat.text-alternatives, wcag2a, wcag241, wcag4...   \n",
       "4  critical  [cat.forms, wcag2a, wcag332, wcag131, section5...   \n",
       "\n",
       "                      Website   \\\n",
       "0  www.doctorblissformayor.com   \n",
       "1  www.doctorblissformayor.com   \n",
       "2  www.doctorblissformayor.com   \n",
       "3  www.doctorblissformayor.com   \n",
       "4  www.doctorblissformayor.com   \n",
       "\n",
       "                                 failureSummary:html  \n",
       "0  {'Fix any of the following:\n",
       "  role button  is ...  \n",
       "1  {'Fix any of the following:\n",
       "  Element has insu...  \n",
       "2  {'Fix any of the following:\n",
       "  Document has mul...  \n",
       "3  {'Fix any of the following:\n",
       "  aria-label attri...  \n",
       "4  {'Fix all of the following:\n",
       "  Form element has...  "
      ]
     },
     "execution_count": 8,
     "metadata": {},
     "output_type": "execute_result"
    }
   ],
   "source": [
    "result.head()"
   ]
  },
  {
   "cell_type": "markdown",
   "id": "8b9df678",
   "metadata": {},
   "source": [
    "Converting the dataframe to CSV:"
   ]
  },
  {
   "cell_type": "code",
   "execution_count": 9,
   "id": "545242bb",
   "metadata": {},
   "outputs": [],
   "source": [
    "result.to_csv('new_seattle_2021_candidate_website_violations.csv', encoding='utf-8')"
   ]
  },
  {
   "cell_type": "code",
   "execution_count": null,
   "id": "cd9338e5",
   "metadata": {},
   "outputs": [],
   "source": []
  }
 ],
 "metadata": {
  "kernelspec": {
   "display_name": "Python 3",
   "language": "python",
   "name": "python3"
  },
  "language_info": {
   "codemirror_mode": {
    "name": "ipython",
    "version": 3
   },
   "file_extension": ".py",
   "mimetype": "text/x-python",
   "name": "python",
   "nbconvert_exporter": "python",
   "pygments_lexer": "ipython3",
   "version": "3.8.8"
  }
 },
 "nbformat": 4,
 "nbformat_minor": 5
}
