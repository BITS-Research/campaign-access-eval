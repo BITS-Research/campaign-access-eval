{
 "cells": [
  {
   "cell_type": "markdown",
   "metadata": {},
   "source": [
    "# Accessibility report of campaign website's\n",
    "## The result is a csv with the candidate name and unique identifier (candidate id) along with the fields from their campaign website's axe report on accessibility."
   ]
  },
  {
   "cell_type": "code",
   "execution_count": 136,
   "metadata": {},
   "outputs": [],
   "source": [
    "import json\n",
    "import pandas as pd\n",
    "import csv\n",
    "from selenium import webdriver\n",
    "from axe_selenium_python import Axe\n",
    "import requests\n",
    "from requests.exceptions import ConnectionError\n",
    "import os"
   ]
  },
  {
   "cell_type": "code",
   "execution_count": 2,
   "metadata": {},
   "outputs": [],
   "source": [
    "candidate_data = pd.read_csv(r'localcandidate-sample.csv')"
   ]
  },
  {
   "cell_type": "markdown",
   "metadata": {},
   "source": [
    "### The following are all the available features in this dataset:"
   ]
  },
  {
   "cell_type": "code",
   "execution_count": 5,
   "metadata": {},
   "outputs": [
    {
     "data": {
      "text/plain": [
       "['Election year',\n",
       " 'Stage ID',\n",
       " 'Stage',\n",
       " 'Election district',\n",
       " 'Election District type',\n",
       " 'State',\n",
       " 'Race type',\n",
       " 'Race ID',\n",
       " 'Office level',\n",
       " 'Office branch',\n",
       " 'Office name',\n",
       " 'Office ID',\n",
       " 'District name',\n",
       " 'District type',\n",
       " 'District OCDID',\n",
       " 'Seats up for election',\n",
       " 'Race URL',\n",
       " 'Name',\n",
       " 'First name',\n",
       " 'Last name',\n",
       " 'Ballotpedia URL',\n",
       " 'Candidate ID',\n",
       " 'Person ID',\n",
       " 'Gender',\n",
       " 'Party affiliation',\n",
       " 'Incumbent?',\n",
       " 'Election date',\n",
       " 'Stage canceled?',\n",
       " 'Candidate status',\n",
       " 'Stage is ranked choice?',\n",
       " 'Ranked-choice voting round',\n",
       " 'Partisan primary?',\n",
       " 'Campaign email',\n",
       " 'Other email',\n",
       " 'Campaign website',\n",
       " 'Personal website',\n",
       " 'Campaign Facebook',\n",
       " 'Personal Facebook',\n",
       " 'Campaign Twitter',\n",
       " 'Personal Twitter',\n",
       " 'Campaign Instagram',\n",
       " 'Personal Instagram',\n",
       " 'Campaign mailing address',\n",
       " 'LinkedIn',\n",
       " 'image']"
      ]
     },
     "execution_count": 5,
     "metadata": {},
     "output_type": "execute_result"
    }
   ],
   "source": [
    "list(candidate_data.columns)"
   ]
  },
  {
   "cell_type": "markdown",
   "metadata": {},
   "source": [
    "### The following features will be included in the final dataset:\n",
    "- Candidate ID\n",
    "- Person ID\n",
    "- First Name\n",
    "- Last Name\n",
    "- Campaign Website"
   ]
  },
  {
   "cell_type": "markdown",
   "metadata": {},
   "source": [
    "### The following features will be included from the axe report:\n",
    "- Violation #\n",
    "- Description\n",
    "- Help\n",
    "- HelpUrl\n",
    "- Id\n",
    "- Impact\n",
    "- Tags\n",
    "\n",
    "\n",
    "### Features Ignored:\n",
    "- Nodes"
   ]
  },
  {
   "cell_type": "markdown",
   "metadata": {},
   "source": [
    "This function accepts a url and creates an axe report in json format. Then parses the json file to create a dictionary with all the elements nested."
   ]
  },
  {
   "cell_type": "code",
   "execution_count": 133,
   "metadata": {},
   "outputs": [],
   "source": [
    "def test_site(url: str) -> dict:\n",
    "    # Add the path the geckodriver you downloaded earlier\n",
    "    # The following is an example\n",
    "    driver = webdriver.Firefox()\n",
    "    driver.get(url)\n",
    "    axe = Axe(driver)\n",
    "    # Inject axe-core javascript into page.\n",
    "    axe.inject()\n",
    "    # Run axe accessibility checks.\n",
    "    results = axe.run()\n",
    "    # Write results to file\n",
    "    axe.write_results(results, 'access.json')\n",
    "    driver.close()\n",
    "    # Assert no violations are found\n",
    "    # assert len(results[\"violations\"]) == 0, axe.report(results[\"violations\"])\n",
    "    with open('access.json', 'r') as content:\n",
    "        data = json.load(content)\n",
    "    \n",
    "    return data"
   ]
  },
  {
   "cell_type": "code",
   "execution_count": null,
   "metadata": {},
   "outputs": [],
   "source": [
    "# Testing the function:\n",
    "\n",
    "test_data = test_site(\"http://natalieisawesome.com/\")"
   ]
  },
  {
   "cell_type": "markdown",
   "metadata": {},
   "source": [
    "Converting the dataframe into the result dataframe by including the violation details"
   ]
  },
  {
   "cell_type": "code",
   "execution_count": 134,
   "metadata": {},
   "outputs": [],
   "source": [
    "result = pd.DataFrame(columns = [\"Candidate ID\", \"Person ID\", \"First Name\", \"Last Name\", \"Campaign Website\",\n",
    "                                 \"Violation #\", \"Description\", \"Help\", \"HelpUrl\", \"Id\", \"Impact\", \"Tags\"])"
   ]
  },
  {
   "cell_type": "code",
   "execution_count": 139,
   "metadata": {},
   "outputs": [
    {
     "name": "stdout",
     "output_type": "stream",
     "text": [
      "Checking violations in Natalie Fleming's campaign website\n",
      "Checking violations in Craig Williams's campaign website\n",
      "Checking violations in Weston Ulbrich's campaign website\n",
      "Checking violations in Jeff Howe's campaign website\n",
      "Checking violations in Bob Carney's campaign website\n",
      "Checking violations in Matthew McIntyre's campaign website\n",
      "Checking violations in Daniel Rosenthal's campaign website\n",
      "Checking violations in Tom Young's campaign website\n",
      "Checking violations in Leon Benjamin's campaign website\n",
      "Checking violations in Todd Hunter's campaign website\n",
      "Checking violations in William Driscoll's campaign website\n",
      "Checking violations in Freddy Ramirez's campaign website\n",
      "Checking violations in Tom Dent's campaign website\n",
      "Checking violations in Padraic Rafferty's campaign website\n",
      "Checking violations in Michele Meyer's campaign website\n",
      "Checking violations in Mark Gamba's campaign website\n",
      "Checking violations in Lynne Walz's campaign website\n",
      "Checking violations in Tim Rudd's campaign website\n",
      "Jon Bennion's campaign website does not exist\n",
      "Checking violations in Scott Fitzpatrick's campaign website\n",
      "Checking violations in Renee Ellmers's campaign website\n",
      "Checking violations in Don Bolduc's campaign website\n",
      "Checking violations in Angela Nixon's campaign website\n",
      "Checking violations in Terry Gauthier's campaign website\n",
      "Checking violations in Susan Hughes's campaign website\n",
      "Checking violations in Sandra O'Brien's campaign website\n",
      "Checking violations in Keanakay Scott's campaign website\n",
      "Sue Levi's campaign website does not exist\n",
      "Checking violations in Fernando Padron's campaign website\n",
      "Checking violations in April Nesbit's campaign website\n"
     ]
    }
   ],
   "source": [
    "for index, row in candidate_data.iterrows():\n",
    "    website = row['Campaign website']\n",
    "    # checking if there is a value for 'campaign website'\n",
    "    if not pd.isna(website):\n",
    "        try:\n",
    "            # checking if this website is valid\n",
    "            request = requests.get(website)\n",
    "        except ConnectionError:\n",
    "            print(row['First name'] + \" \" + row['Last name'] + '\\'s campaign website does not exist')\n",
    "            continue\n",
    "        \n",
    "        # calling the function to create json report file\n",
    "        axe_report = test_site(website)\n",
    "        axe_violations = axe_report['violations']\n",
    "        count = len(axe_violations)\n",
    "        print(\"Checking violations in \" + row['First name'] + \" \" + row['Last name'] + '\\'s campaign website')\n",
    "        \n",
    "        # appending the data frame\n",
    "        # each violation is added as a new observation and tracked with vilation #\n",
    "        for i in range(count):\n",
    "            violation_num = i + 1\n",
    "            violation_desc = axe_violations[i]['description']\n",
    "            violation_help = axe_violations[i]['help']\n",
    "            violation_helpurl = axe_violations[i]['helpUrl']\n",
    "            violation_id = axe_violations[i]['id']\n",
    "            violation_impact = axe_violations[i]['impact']\n",
    "            violation_tags = axe_violations[i]['tags']\n",
    "            result = result.append({'Candidate ID': row['Candidate ID'],'Person ID':row['Person ID'], \n",
    "                                    'First Name': row['First name'], 'Last Name': row['Last name'], \n",
    "                                    'Campaign Website': row['Campaign website'], 'Violation #': violation_num,\n",
    "                                    'Description': violation_desc, 'Help': violation_help, 'HelpUrl': violation_helpurl,\n",
    "                                    'Id': violation_id, 'Impact': violation_impact, 'Tags': violation_tags}, ignore_index=True)\n",
    "    # remove the json file once done\n",
    "    if os.path.exists('access.json'):\n",
    "        os.remove('access.json')\n",
    "         "
   ]
  },
  {
   "cell_type": "code",
   "execution_count": 138,
   "metadata": {},
   "outputs": [
    {
     "data": {
      "text/html": [
       "<div>\n",
       "<style scoped>\n",
       "    .dataframe tbody tr th:only-of-type {\n",
       "        vertical-align: middle;\n",
       "    }\n",
       "\n",
       "    .dataframe tbody tr th {\n",
       "        vertical-align: top;\n",
       "    }\n",
       "\n",
       "    .dataframe thead th {\n",
       "        text-align: right;\n",
       "    }\n",
       "</style>\n",
       "<table border=\"1\" class=\"dataframe\">\n",
       "  <thead>\n",
       "    <tr style=\"text-align: right;\">\n",
       "      <th></th>\n",
       "      <th>Candidate ID</th>\n",
       "      <th>Person ID</th>\n",
       "      <th>First Name</th>\n",
       "      <th>Last Name</th>\n",
       "      <th>Campaign Website</th>\n",
       "      <th>Violation #</th>\n",
       "      <th>Description</th>\n",
       "      <th>Help</th>\n",
       "      <th>HelpUrl</th>\n",
       "      <th>Id</th>\n",
       "      <th>Impact</th>\n",
       "      <th>Tags</th>\n",
       "    </tr>\n",
       "  </thead>\n",
       "  <tbody>\n",
       "    <tr>\n",
       "      <th>0</th>\n",
       "      <td>65809</td>\n",
       "      <td>304885</td>\n",
       "      <td>Natalie</td>\n",
       "      <td>Fleming</td>\n",
       "      <td>http://natalieisawesome.com/</td>\n",
       "      <td>1</td>\n",
       "      <td>Ensures role attribute has an appropriate valu...</td>\n",
       "      <td>ARIA role must be appropriate for the element</td>\n",
       "      <td>https://dequeuniversity.com/rules/axe/3.1/aria...</td>\n",
       "      <td>aria-allowed-role</td>\n",
       "      <td>minor</td>\n",
       "      <td>[cat.aria, best-practice]</td>\n",
       "    </tr>\n",
       "    <tr>\n",
       "      <th>1</th>\n",
       "      <td>65809</td>\n",
       "      <td>304885</td>\n",
       "      <td>Natalie</td>\n",
       "      <td>Fleming</td>\n",
       "      <td>http://natalieisawesome.com/</td>\n",
       "      <td>2</td>\n",
       "      <td>Ensures all page content is contained by landm...</td>\n",
       "      <td>All page content must be contained by landmarks</td>\n",
       "      <td>https://dequeuniversity.com/rules/axe/3.1/regi...</td>\n",
       "      <td>region</td>\n",
       "      <td>moderate</td>\n",
       "      <td>[cat.keyboard, best-practice]</td>\n",
       "    </tr>\n",
       "    <tr>\n",
       "      <th>2</th>\n",
       "      <td>79281</td>\n",
       "      <td>326195</td>\n",
       "      <td>Craig</td>\n",
       "      <td>Williams</td>\n",
       "      <td>http://williamsforiowa.com/</td>\n",
       "      <td>1</td>\n",
       "      <td>Ensures role attribute has an appropriate valu...</td>\n",
       "      <td>ARIA role must be appropriate for the element</td>\n",
       "      <td>https://dequeuniversity.com/rules/axe/3.1/aria...</td>\n",
       "      <td>aria-allowed-role</td>\n",
       "      <td>minor</td>\n",
       "      <td>[cat.aria, best-practice]</td>\n",
       "    </tr>\n",
       "    <tr>\n",
       "      <th>3</th>\n",
       "      <td>79281</td>\n",
       "      <td>326195</td>\n",
       "      <td>Craig</td>\n",
       "      <td>Williams</td>\n",
       "      <td>http://williamsforiowa.com/</td>\n",
       "      <td>2</td>\n",
       "      <td>Ensures the order of headings is semantically ...</td>\n",
       "      <td>Heading levels should only increase by one</td>\n",
       "      <td>https://dequeuniversity.com/rules/axe/3.1/head...</td>\n",
       "      <td>heading-order</td>\n",
       "      <td>moderate</td>\n",
       "      <td>[cat.semantics, best-practice]</td>\n",
       "    </tr>\n",
       "    <tr>\n",
       "      <th>4</th>\n",
       "      <td>79281</td>\n",
       "      <td>326195</td>\n",
       "      <td>Craig</td>\n",
       "      <td>Williams</td>\n",
       "      <td>http://williamsforiowa.com/</td>\n",
       "      <td>3</td>\n",
       "      <td>Ensures the page has only one main landmark an...</td>\n",
       "      <td>Page must have one main landmark</td>\n",
       "      <td>https://dequeuniversity.com/rules/axe/3.1/land...</td>\n",
       "      <td>landmark-one-main</td>\n",
       "      <td>moderate</td>\n",
       "      <td>[cat.semantics, best-practice]</td>\n",
       "    </tr>\n",
       "  </tbody>\n",
       "</table>\n",
       "</div>"
      ],
      "text/plain": [
       "  Candidate ID Person ID First Name Last Name              Campaign Website  \\\n",
       "0        65809    304885    Natalie   Fleming  http://natalieisawesome.com/   \n",
       "1        65809    304885    Natalie   Fleming  http://natalieisawesome.com/   \n",
       "2        79281    326195      Craig  Williams   http://williamsforiowa.com/   \n",
       "3        79281    326195      Craig  Williams   http://williamsforiowa.com/   \n",
       "4        79281    326195      Craig  Williams   http://williamsforiowa.com/   \n",
       "\n",
       "  Violation #                                        Description  \\\n",
       "0           1  Ensures role attribute has an appropriate valu...   \n",
       "1           2  Ensures all page content is contained by landm...   \n",
       "2           1  Ensures role attribute has an appropriate valu...   \n",
       "3           2  Ensures the order of headings is semantically ...   \n",
       "4           3  Ensures the page has only one main landmark an...   \n",
       "\n",
       "                                              Help  \\\n",
       "0    ARIA role must be appropriate for the element   \n",
       "1  All page content must be contained by landmarks   \n",
       "2    ARIA role must be appropriate for the element   \n",
       "3       Heading levels should only increase by one   \n",
       "4                 Page must have one main landmark   \n",
       "\n",
       "                                             HelpUrl                 Id  \\\n",
       "0  https://dequeuniversity.com/rules/axe/3.1/aria...  aria-allowed-role   \n",
       "1  https://dequeuniversity.com/rules/axe/3.1/regi...             region   \n",
       "2  https://dequeuniversity.com/rules/axe/3.1/aria...  aria-allowed-role   \n",
       "3  https://dequeuniversity.com/rules/axe/3.1/head...      heading-order   \n",
       "4  https://dequeuniversity.com/rules/axe/3.1/land...  landmark-one-main   \n",
       "\n",
       "     Impact                            Tags  \n",
       "0     minor       [cat.aria, best-practice]  \n",
       "1  moderate   [cat.keyboard, best-practice]  \n",
       "2     minor       [cat.aria, best-practice]  \n",
       "3  moderate  [cat.semantics, best-practice]  \n",
       "4  moderate  [cat.semantics, best-practice]  "
      ]
     },
     "execution_count": 138,
     "metadata": {},
     "output_type": "execute_result"
    }
   ],
   "source": [
    "result.head()"
   ]
  },
  {
   "cell_type": "markdown",
   "metadata": {},
   "source": [
    "Converting the dataframe to CSV:"
   ]
  },
  {
   "cell_type": "code",
   "execution_count": 132,
   "metadata": {},
   "outputs": [],
   "source": [
    "result.to_csv('localcandidate_website_violations.csv', encoding='utf-8')"
   ]
  }
 ],
 "metadata": {
  "kernelspec": {
   "display_name": "Python 3",
   "language": "python",
   "name": "python3"
  },
  "language_info": {
   "codemirror_mode": {
    "name": "ipython",
    "version": 3
   },
   "file_extension": ".py",
   "mimetype": "text/x-python",
   "name": "python",
   "nbconvert_exporter": "python",
   "pygments_lexer": "ipython3",
   "version": "3.8.3"
  }
 },
 "nbformat": 4,
 "nbformat_minor": 4
}
